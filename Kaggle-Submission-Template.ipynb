{
  "cells": [
    {
      "cell_type": "markdown",
      "metadata": {
        "id": "xcG9WwtPMQb3"
      },
      "source": [
        "# Imports and Installs"
      ]
    },
    {
      "cell_type": "code",
      "execution_count": 1,
      "metadata": {},
      "outputs": [],
      "source": [
        "import pandas as pd\n",
        "import numpy as np\n",
        "import matplotlib.pyplot as plt\n",
        "import pandas as pd\n",
        "from sklearn.model_selection import train_test_split\n",
        "from sklearn.preprocessing import StandardScaler, OneHotEncoder\n",
        "from sklearn.compose import ColumnTransformer\n",
        "from sklearn.pipeline import Pipeline\n",
        "from sklearn.linear_model import LogisticRegression\n",
        "from sklearn.metrics import accuracy_score, classification_report"
      ]
    },
    {
      "cell_type": "markdown",
      "metadata": {
        "id": "M0xwGvVLMcgl"
      },
      "source": [
        "# Data Loading"
      ]
    },
    {
      "cell_type": "code",
      "execution_count": 3,
      "metadata": {},
      "outputs": [
        {
          "data": {
            "text/html": [
              "<div>\n",
              "<style scoped>\n",
              "    .dataframe tbody tr th:only-of-type {\n",
              "        vertical-align: middle;\n",
              "    }\n",
              "\n",
              "    .dataframe tbody tr th {\n",
              "        vertical-align: top;\n",
              "    }\n",
              "\n",
              "    .dataframe thead th {\n",
              "        text-align: right;\n",
              "    }\n",
              "</style>\n",
              "<table border=\"1\" class=\"dataframe\">\n",
              "  <thead>\n",
              "    <tr style=\"text-align: right;\">\n",
              "      <th></th>\n",
              "      <th>id</th>\n",
              "      <th>Brand</th>\n",
              "      <th>Material</th>\n",
              "      <th>Size</th>\n",
              "      <th>Compartments</th>\n",
              "      <th>Laptop Compartment</th>\n",
              "      <th>Waterproof</th>\n",
              "      <th>Style</th>\n",
              "      <th>Color</th>\n",
              "      <th>Weight Capacity (kg)</th>\n",
              "      <th>Price</th>\n",
              "    </tr>\n",
              "  </thead>\n",
              "  <tbody>\n",
              "    <tr>\n",
              "      <th>0</th>\n",
              "      <td>0</td>\n",
              "      <td>Jansport</td>\n",
              "      <td>Leather</td>\n",
              "      <td>Medium</td>\n",
              "      <td>7.0</td>\n",
              "      <td>Yes</td>\n",
              "      <td>No</td>\n",
              "      <td>Tote</td>\n",
              "      <td>Black</td>\n",
              "      <td>11.611723</td>\n",
              "      <td>112.15875</td>\n",
              "    </tr>\n",
              "    <tr>\n",
              "      <th>1</th>\n",
              "      <td>1</td>\n",
              "      <td>Jansport</td>\n",
              "      <td>Canvas</td>\n",
              "      <td>Small</td>\n",
              "      <td>10.0</td>\n",
              "      <td>Yes</td>\n",
              "      <td>Yes</td>\n",
              "      <td>Messenger</td>\n",
              "      <td>Green</td>\n",
              "      <td>27.078537</td>\n",
              "      <td>68.88056</td>\n",
              "    </tr>\n",
              "    <tr>\n",
              "      <th>2</th>\n",
              "      <td>2</td>\n",
              "      <td>Under Armour</td>\n",
              "      <td>Leather</td>\n",
              "      <td>Small</td>\n",
              "      <td>2.0</td>\n",
              "      <td>Yes</td>\n",
              "      <td>No</td>\n",
              "      <td>Messenger</td>\n",
              "      <td>Red</td>\n",
              "      <td>16.643760</td>\n",
              "      <td>39.17320</td>\n",
              "    </tr>\n",
              "    <tr>\n",
              "      <th>3</th>\n",
              "      <td>3</td>\n",
              "      <td>Nike</td>\n",
              "      <td>Nylon</td>\n",
              "      <td>Small</td>\n",
              "      <td>8.0</td>\n",
              "      <td>Yes</td>\n",
              "      <td>No</td>\n",
              "      <td>Messenger</td>\n",
              "      <td>Green</td>\n",
              "      <td>12.937220</td>\n",
              "      <td>80.60793</td>\n",
              "    </tr>\n",
              "    <tr>\n",
              "      <th>4</th>\n",
              "      <td>4</td>\n",
              "      <td>Adidas</td>\n",
              "      <td>Canvas</td>\n",
              "      <td>Medium</td>\n",
              "      <td>1.0</td>\n",
              "      <td>Yes</td>\n",
              "      <td>Yes</td>\n",
              "      <td>Messenger</td>\n",
              "      <td>Green</td>\n",
              "      <td>17.749338</td>\n",
              "      <td>86.02312</td>\n",
              "    </tr>\n",
              "  </tbody>\n",
              "</table>\n",
              "</div>"
            ],
            "text/plain": [
              "   id         Brand Material    Size  Compartments Laptop Compartment  \\\n",
              "0   0      Jansport  Leather  Medium           7.0                Yes   \n",
              "1   1      Jansport   Canvas   Small          10.0                Yes   \n",
              "2   2  Under Armour  Leather   Small           2.0                Yes   \n",
              "3   3          Nike    Nylon   Small           8.0                Yes   \n",
              "4   4        Adidas   Canvas  Medium           1.0                Yes   \n",
              "\n",
              "  Waterproof      Style  Color  Weight Capacity (kg)      Price  \n",
              "0         No       Tote  Black             11.611723  112.15875  \n",
              "1        Yes  Messenger  Green             27.078537   68.88056  \n",
              "2         No  Messenger    Red             16.643760   39.17320  \n",
              "3         No  Messenger  Green             12.937220   80.60793  \n",
              "4        Yes  Messenger  Green             17.749338   86.02312  "
            ]
          },
          "execution_count": 3,
          "metadata": {},
          "output_type": "execute_result"
        }
      ],
      "source": [
        "df = pd.read_csv(\"train.csv\")\n",
        "df.head()"
      ]
    },
    {
      "cell_type": "markdown",
      "metadata": {},
      "source": [
        "## Train-Test Split"
      ]
    },
    {
      "cell_type": "code",
      "execution_count": null,
      "metadata": {},
      "outputs": [],
      "source": [
        "# Split the dataset into train and test sets\n",
        "train_df, test_df = train_test_split(df, test_size=0.2, random_state=42)\n",
        "\n",
        "# Save the train and test sets to new CSV files (optional)\n",
        "train_df.to_csv('train_split.csv', index=False)\n",
        "test_df.to_csv('test_split.csv', index=False)"
      ]
    },
    {
      "cell_type": "markdown",
      "metadata": {
        "id": "o3ElaN-hf4Zo"
      },
      "source": [
        "## (Optional) Data Enhancement"
      ]
    },
    {
      "cell_type": "markdown",
      "metadata": {
        "id": "NolaSI-LNrvn"
      },
      "source": [
        "# (Optional) EDA (Explorative Data Analysis)"
      ]
    },
    {
      "cell_type": "markdown",
      "metadata": {
        "id": "q-WN9BCaLi6G"
      },
      "source": [
        "# Data Preprocessing"
      ]
    },
    {
      "cell_type": "markdown",
      "metadata": {
        "id": "Hl9qGg6xLuAj"
      },
      "source": [
        "## Data Cleaning"
      ]
    },
    {
      "cell_type": "markdown",
      "metadata": {
        "id": "0VNk3rHANA7V"
      },
      "source": [
        "## Encoding"
      ]
    },
    {
      "cell_type": "markdown",
      "metadata": {
        "id": "RaoW1sawNhXQ"
      },
      "source": [
        "## (Optional) Feature Engineering"
      ]
    },
    {
      "cell_type": "markdown",
      "metadata": {},
      "source": [
        "## (Optional) Feature Selection"
      ]
    },
    {
      "cell_type": "markdown",
      "metadata": {
        "id": "gbTvPMrFNPp-"
      },
      "source": [
        "## Normalisation"
      ]
    },
    {
      "cell_type": "markdown",
      "metadata": {
        "id": "YHs3ag34OiuD"
      },
      "source": [
        "# Model Handling"
      ]
    },
    {
      "cell_type": "markdown",
      "metadata": {
        "id": "2axEbRDYO-Yd"
      },
      "source": [
        "## Model Selection"
      ]
    },
    {
      "cell_type": "markdown",
      "metadata": {
        "id": "CNzDjxg6PTPi"
      },
      "source": [
        "## Model Evaluation"
      ]
    },
    {
      "cell_type": "code",
      "execution_count": null,
      "metadata": {
        "id": "OZ18c283XTr0"
      },
      "outputs": [],
      "source": [
        "# Model training\n",
        "# Model predictions\n",
        "# Performance summary\n",
        "\n",
        "### Recommended: complete the model training and model prediction during cross-validation"
      ]
    },
    {
      "cell_type": "markdown",
      "metadata": {
        "id": "tQIBLbk6PXBv"
      },
      "source": [
        "## Model Tuning"
      ]
    },
    {
      "cell_type": "markdown",
      "metadata": {
        "id": "HRhJubybPbF3"
      },
      "source": [
        "### Hyperparameter Optimisation"
      ]
    },
    {
      "cell_type": "markdown",
      "metadata": {
        "id": "E6u5CBo2gNIJ"
      },
      "source": [
        "### (Optional) Parameter Summary"
      ]
    },
    {
      "cell_type": "markdown",
      "metadata": {
        "id": "3WqihjvTeQAt"
      },
      "source": [
        "# (Optional) Ensemble Learning"
      ]
    },
    {
      "cell_type": "markdown",
      "metadata": {
        "id": "YdIR1v9chUTT"
      },
      "source": [
        "## Training"
      ]
    },
    {
      "cell_type": "markdown",
      "metadata": {
        "id": "ie6Oo6EoheYY"
      },
      "source": [
        "## Evaluation"
      ]
    },
    {
      "cell_type": "markdown",
      "metadata": {
        "id": "MijyTZNkhXpb"
      },
      "source": [
        "# Submission"
      ]
    },
    {
      "cell_type": "markdown",
      "metadata": {
        "id": "u8bRFZpwhpEE"
      },
      "source": [
        "# (Optional) To-Do List"
      ]
    }
  ],
  "metadata": {
    "colab": {
      "authorship_tag": "ABX9TyPuBnDr5QL+/V81mOM+Il8t",
      "include_colab_link": true,
      "provenance": []
    },
    "kernelspec": {
      "display_name": "Python 3",
      "name": "python3"
    },
    "language_info": {
      "codemirror_mode": {
        "name": "ipython",
        "version": 3
      },
      "file_extension": ".py",
      "mimetype": "text/x-python",
      "name": "python",
      "nbconvert_exporter": "python",
      "pygments_lexer": "ipython3",
      "version": "3.12.9"
    }
  },
  "nbformat": 4,
  "nbformat_minor": 0
}
